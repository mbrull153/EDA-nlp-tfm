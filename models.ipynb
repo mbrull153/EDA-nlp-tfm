{
 "cells": [
  {
   "cell_type": "code",
   "execution_count": 1,
   "id": "8ae0f569",
   "metadata": {},
   "outputs": [
    {
     "name": "stderr",
     "output_type": "stream",
     "text": [
      "/Users/mariabrullmartinez/opt/anaconda3/envs/nlp-eda/lib/python3.9/site-packages/gensim/similarities/__init__.py:15: UserWarning: The gensim.similarities.levenshtein submodule is disabled, because the optional Levenshtein package <https://pypi.org/project/python-Levenshtein/> is unavailable. Install Levenhstein (e.g. `pip install python-Levenshtein`) to suppress this warning.\n",
      "  warnings.warn(msg)\n"
     ]
    }
   ],
   "source": [
    "import pandas as pd\n",
    "import csv\n",
    "\n",
    "import sys\n",
    "sys.path.insert(0, '../')\n",
    "\n",
    "import seaborn as sns\n",
    "import matplotlib.pyplot as plt\n",
    "\n",
    "import collections\n",
    "from collections import defaultdict\n",
    "\n",
    "from nltk.util import ngrams\n",
    "from sklearn.feature_extraction.text import CountVectorizer\n",
    "from wordcloud import WordCloud, STOPWORDS\n",
    "from nltk.stem import PorterStemmer\n",
    "from nltk.tokenize import sent_tokenize, word_tokenize\n",
    "from nltk.stem import WordNetLemmatizer\n",
    "import gensim"
   ]
  },
  {
   "cell_type": "markdown",
   "id": "67a8b301",
   "metadata": {},
   "source": [
    "### STS benchmark"
   ]
  },
  {
   "cell_type": "code",
   "execution_count": 14,
   "id": "291bb5c2",
   "metadata": {},
   "outputs": [],
   "source": [
    "col_names=['genre', 'file', 'year', 'feature_1','feature_2', 'sentence_1', 'sentence_2', 'feature_3','feature_4']\n",
    "\n",
    "df_train_sts=pd.read_excel('/Users/mariabrullmartinez/Documents/TFM-NLP/EDA/stsbenchmark/sts-train.xls', header=None, names=col_names)\n",
    "df_train_sts[\"sent1_length\"]= df_train_sts[\"sentence_1\"].str.len()\n",
    "df_train_sts[\"sent2_length\"]= df_train_sts[\"sentence_2\"].str.len()\n",
    "\n",
    "df_test_sts=pd.read_excel('/Users/mariabrullmartinez/Documents/TFM-NLP/EDA/stsbenchmark/sts-test.xls', header=None, names=col_names)\n",
    "df_test_sts[\"sent1_length\"]= df_test_sts[\"sentence_1\"].str.len()\n",
    "df_test_sts[\"sent2_length\"]= df_test_sts[\"sentence_2\"].str.len()\n",
    "\n",
    "df_dev_sts=pd.read_excel('/Users/mariabrullmartinez/Documents/TFM-NLP/EDA/stsbenchmark/sts-dev.xls', header=None, names=col_names)\n",
    "df_dev_sts[\"sent1_length\"]= df_dev_sts[\"sentence_1\"].str.len()\n",
    "df_dev_sts[\"sent2_length\"]= df_dev_sts[\"sentence_2\"].str.len()\n",
    "\n",
    "df_sts=pd.concat([df_train, df_test, df_dev])"
   ]
  },
  {
   "cell_type": "code",
   "execution_count": 15,
   "id": "5838e3c6",
   "metadata": {},
   "outputs": [
    {
     "name": "stdout",
     "output_type": "stream",
     "text": [
      "The lenght of the train dataset is : (5749, 11)\n",
      "The lenght of the test dataset is : (1379, 11)\n",
      "The lenght of the dev dataset is : (1500, 11)\n",
      "The lenght of the total dataset is : (8628, 11)\n"
     ]
    }
   ],
   "source": [
    "print ('The lenght of the train dataset is :', df_train_sts.shape)\n",
    "print ('The lenght of the test dataset is :', df_test_sts.shape)\n",
    "print ('The lenght of the dev dataset is :', df_dev_sts.shape)\n",
    "print ('The lenght of the total dataset is :', df_sts.shape)"
   ]
  },
  {
   "cell_type": "markdown",
   "id": "c1dffcfe",
   "metadata": {},
   "source": [
    "### SICK benchmark"
   ]
  },
  {
   "cell_type": "code",
   "execution_count": 51,
   "id": "2a8e731e",
   "metadata": {},
   "outputs": [],
   "source": [
    "df_sick = pd.read_csv(\"/Users/mariabrullmartinez/Documents/TFM-NLP/EDA/SICK/SICK.txt\", sep='\\t')"
   ]
  },
  {
   "cell_type": "code",
   "execution_count": 52,
   "id": "4706aa29",
   "metadata": {},
   "outputs": [],
   "source": [
    "df_sick=df_sick.drop('sentence_B_original', axis=1)"
   ]
  },
  {
   "cell_type": "code",
   "execution_count": 53,
   "id": "a94502dd",
   "metadata": {},
   "outputs": [],
   "source": [
    "df_test_sick=df_sick.loc[df['SemEval_set']=='TEST']\n",
    "df_train_sick=df_sick.loc[df['SemEval_set']=='TRAIN']\n",
    "df_trial_sick=df_sick.loc[df['SemEval_set']=='TRIAL']"
   ]
  },
  {
   "cell_type": "code",
   "execution_count": 54,
   "id": "8bcf4789",
   "metadata": {},
   "outputs": [
    {
     "name": "stdout",
     "output_type": "stream",
     "text": [
      "The lenght of the train dataset is : (4439, 11)\n",
      "The lenght of the test dataset is : (4906, 11)\n",
      "The lenght of the dev dataset is : (495, 11)\n",
      "The lenght of the total dataset is : (9840, 11)\n"
     ]
    }
   ],
   "source": [
    "print ('The lenght of the train dataset is :', df_train_sick.shape)\n",
    "print ('The lenght of the test dataset is :', df_test_sick.shape)\n",
    "print ('The lenght of the dev dataset is :', df_trial_sick.shape)\n",
    "print ('The lenght of the total dataset is :', df_sick.shape)"
   ]
  },
  {
   "cell_type": "markdown",
   "id": "87fa27b4",
   "metadata": {},
   "source": [
    "#### Lets try to have a balance dataset for both database, therefore we will establish: \n",
    "- train: 6000 sentences\n",
    "- test: 2500 sentences \n",
    "- trial: 500 sentences"
   ]
  },
  {
   "cell_type": "code",
   "execution_count": 19,
   "id": "5f5a3386",
   "metadata": {},
   "outputs": [],
   "source": [
    "df_test_sts=pd.concat([df_dev_sts[0:700], df_test_sts])"
   ]
  },
  {
   "cell_type": "code",
   "execution_count": 17,
   "id": "ad4821b7",
   "metadata": {},
   "outputs": [],
   "source": [
    "df_train_sts=pd.concat([df_dev_sts[700:1000], df_train_sts])"
   ]
  },
  {
   "cell_type": "code",
   "execution_count": 20,
   "id": "f8e864f7",
   "metadata": {},
   "outputs": [],
   "source": [
    "df_dev_sts=df_dev_sts[1000:]"
   ]
  },
  {
   "cell_type": "code",
   "execution_count": 21,
   "id": "cbb7734f",
   "metadata": {},
   "outputs": [
    {
     "name": "stdout",
     "output_type": "stream",
     "text": [
      "The lenght of the train dataset is : (6049, 11)\n",
      "The lenght of the test dataset is : (2279, 11)\n",
      "The lenght of the dev dataset is : (500, 11)\n",
      "The lenght of the total dataset is : (8628, 11)\n"
     ]
    }
   ],
   "source": [
    "print ('The lenght of the train dataset is :', df_train_sts.shape)\n",
    "print ('The lenght of the test dataset is :', df_test_sts.shape)\n",
    "print ('The lenght of the dev dataset is :', df_dev_sts.shape)\n",
    "print ('The lenght of the total dataset is :', df_sts.shape)"
   ]
  },
  {
   "cell_type": "code",
   "execution_count": 55,
   "id": "0ca8417d",
   "metadata": {},
   "outputs": [],
   "source": [
    "df_train_sick=pd.concat([df_test_sick[0:1700], df_train_sick])"
   ]
  },
  {
   "cell_type": "code",
   "execution_count": 56,
   "id": "a5d70060",
   "metadata": {},
   "outputs": [],
   "source": [
    "df_test_sick=df_test_sick[2000:4000]"
   ]
  },
  {
   "cell_type": "code",
   "execution_count": 57,
   "id": "12cc0dee",
   "metadata": {},
   "outputs": [
    {
     "name": "stdout",
     "output_type": "stream",
     "text": [
      "The lenght of the train dataset is : (6139, 11)\n",
      "The lenght of the test dataset is : (2000, 11)\n",
      "The lenght of the dev dataset is : (495, 11)\n",
      "The lenght of the total dataset is : (9840, 11)\n"
     ]
    }
   ],
   "source": [
    "print ('The lenght of the train dataset is :', df_train_sick.shape)\n",
    "print ('The lenght of the test dataset is :', df_test_sick.shape)\n",
    "print ('The lenght of the dev dataset is :', df_trial_sick.shape)\n",
    "print ('The lenght of the total dataset is :', df_sick.shape)"
   ]
  },
  {
   "cell_type": "code",
   "execution_count": null,
   "id": "bbfe6425",
   "metadata": {},
   "outputs": [],
   "source": []
  }
 ],
 "metadata": {
  "kernelspec": {
   "display_name": "Python 3",
   "language": "python",
   "name": "python3"
  },
  "language_info": {
   "codemirror_mode": {
    "name": "ipython",
    "version": 3
   },
   "file_extension": ".py",
   "mimetype": "text/x-python",
   "name": "python",
   "nbconvert_exporter": "python",
   "pygments_lexer": "ipython3",
   "version": "3.9.4"
  }
 },
 "nbformat": 4,
 "nbformat_minor": 5
}
